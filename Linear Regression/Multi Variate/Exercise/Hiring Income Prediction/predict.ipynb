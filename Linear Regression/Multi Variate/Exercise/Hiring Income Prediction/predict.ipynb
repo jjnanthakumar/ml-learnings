{
 "metadata": {
  "language_info": {
   "codemirror_mode": {
    "name": "ipython",
    "version": 3
   },
   "file_extension": ".py",
   "mimetype": "text/x-python",
   "name": "python",
   "nbconvert_exporter": "python",
   "pygments_lexer": "ipython3",
   "version": "3.9.2"
  },
  "orig_nbformat": 4,
  "kernelspec": {
   "name": "python3",
   "display_name": "Python 3.9.2 64-bit ('venv': venv)"
  },
  "interpreter": {
   "hash": "69645ad4a97972996c28e2ea1714af0ddd34b0004a4fa325dccde2a0e080687a"
  }
 },
 "nbformat": 4,
 "nbformat_minor": 2,
 "cells": [
  {
   "cell_type": "code",
   "execution_count": 1,
   "metadata": {},
   "outputs": [],
   "source": [
    "import pandas as pd\n",
    "import numpy as np\n",
    "from sklearn.linear_model import LinearRegression\n",
    "from word2number import w2n"
   ]
  },
  {
   "cell_type": "code",
   "execution_count": 2,
   "metadata": {},
   "outputs": [
    {
     "output_type": "execute_result",
     "data": {
      "text/plain": [
       "  experience  test_score(out of 10)  interview_score(out of 10)  salary($)\n",
       "0        NaN                    8.0                           9      50000\n",
       "1        NaN                    8.0                           6      45000\n",
       "2       five                    6.0                           7      60000\n",
       "3        two                   10.0                          10      65000\n",
       "4      seven                    9.0                           6      70000"
      ],
      "text/html": "<div>\n<style scoped>\n    .dataframe tbody tr th:only-of-type {\n        vertical-align: middle;\n    }\n\n    .dataframe tbody tr th {\n        vertical-align: top;\n    }\n\n    .dataframe thead th {\n        text-align: right;\n    }\n</style>\n<table border=\"1\" class=\"dataframe\">\n  <thead>\n    <tr style=\"text-align: right;\">\n      <th></th>\n      <th>experience</th>\n      <th>test_score(out of 10)</th>\n      <th>interview_score(out of 10)</th>\n      <th>salary($)</th>\n    </tr>\n  </thead>\n  <tbody>\n    <tr>\n      <th>0</th>\n      <td>NaN</td>\n      <td>8.0</td>\n      <td>9</td>\n      <td>50000</td>\n    </tr>\n    <tr>\n      <th>1</th>\n      <td>NaN</td>\n      <td>8.0</td>\n      <td>6</td>\n      <td>45000</td>\n    </tr>\n    <tr>\n      <th>2</th>\n      <td>five</td>\n      <td>6.0</td>\n      <td>7</td>\n      <td>60000</td>\n    </tr>\n    <tr>\n      <th>3</th>\n      <td>two</td>\n      <td>10.0</td>\n      <td>10</td>\n      <td>65000</td>\n    </tr>\n    <tr>\n      <th>4</th>\n      <td>seven</td>\n      <td>9.0</td>\n      <td>6</td>\n      <td>70000</td>\n    </tr>\n  </tbody>\n</table>\n</div>"
     },
     "metadata": {},
     "execution_count": 2
    }
   ],
   "source": [
    "df = pd.read_csv('Data/hiring.csv')\n",
    "df.head()\n"
   ]
  },
  {
   "cell_type": "code",
   "execution_count": 3,
   "metadata": {},
   "outputs": [],
   "source": [
    "df.experience = df.experience.fillna('zero')"
   ]
  },
  {
   "cell_type": "code",
   "execution_count": 4,
   "metadata": {},
   "outputs": [
    {
     "output_type": "execute_result",
     "data": {
      "text/plain": [
       "  experience  test_score(out of 10)  interview_score(out of 10)  salary($)\n",
       "0       zero                    8.0                           9      50000\n",
       "1       zero                    8.0                           6      45000\n",
       "2       five                    6.0                           7      60000\n",
       "3        two                   10.0                          10      65000\n",
       "4      seven                    9.0                           6      70000"
      ],
      "text/html": "<div>\n<style scoped>\n    .dataframe tbody tr th:only-of-type {\n        vertical-align: middle;\n    }\n\n    .dataframe tbody tr th {\n        vertical-align: top;\n    }\n\n    .dataframe thead th {\n        text-align: right;\n    }\n</style>\n<table border=\"1\" class=\"dataframe\">\n  <thead>\n    <tr style=\"text-align: right;\">\n      <th></th>\n      <th>experience</th>\n      <th>test_score(out of 10)</th>\n      <th>interview_score(out of 10)</th>\n      <th>salary($)</th>\n    </tr>\n  </thead>\n  <tbody>\n    <tr>\n      <th>0</th>\n      <td>zero</td>\n      <td>8.0</td>\n      <td>9</td>\n      <td>50000</td>\n    </tr>\n    <tr>\n      <th>1</th>\n      <td>zero</td>\n      <td>8.0</td>\n      <td>6</td>\n      <td>45000</td>\n    </tr>\n    <tr>\n      <th>2</th>\n      <td>five</td>\n      <td>6.0</td>\n      <td>7</td>\n      <td>60000</td>\n    </tr>\n    <tr>\n      <th>3</th>\n      <td>two</td>\n      <td>10.0</td>\n      <td>10</td>\n      <td>65000</td>\n    </tr>\n    <tr>\n      <th>4</th>\n      <td>seven</td>\n      <td>9.0</td>\n      <td>6</td>\n      <td>70000</td>\n    </tr>\n  </tbody>\n</table>\n</div>"
     },
     "metadata": {},
     "execution_count": 4
    }
   ],
   "source": [
    "df.head()"
   ]
  },
  {
   "cell_type": "code",
   "execution_count": 7,
   "metadata": {},
   "outputs": [],
   "source": [
    "df.experience = df.experience.apply(w2n.word_to_num)"
   ]
  },
  {
   "cell_type": "code",
   "execution_count": 9,
   "metadata": {},
   "outputs": [
    {
     "output_type": "execute_result",
     "data": {
      "text/plain": [
       "   experience  test_score(out of 10)  interview_score(out of 10)  salary($)\n",
       "0           0                    8.0                           9      50000\n",
       "1           0                    8.0                           6      45000\n",
       "2           5                    6.0                           7      60000\n",
       "3           2                   10.0                          10      65000\n",
       "4           7                    9.0                           6      70000\n",
       "5           3                    7.0                          10      62000\n",
       "6          10                    NaN                           7      72000\n",
       "7          11                    7.0                           8      80000"
      ],
      "text/html": "<div>\n<style scoped>\n    .dataframe tbody tr th:only-of-type {\n        vertical-align: middle;\n    }\n\n    .dataframe tbody tr th {\n        vertical-align: top;\n    }\n\n    .dataframe thead th {\n        text-align: right;\n    }\n</style>\n<table border=\"1\" class=\"dataframe\">\n  <thead>\n    <tr style=\"text-align: right;\">\n      <th></th>\n      <th>experience</th>\n      <th>test_score(out of 10)</th>\n      <th>interview_score(out of 10)</th>\n      <th>salary($)</th>\n    </tr>\n  </thead>\n  <tbody>\n    <tr>\n      <th>0</th>\n      <td>0</td>\n      <td>8.0</td>\n      <td>9</td>\n      <td>50000</td>\n    </tr>\n    <tr>\n      <th>1</th>\n      <td>0</td>\n      <td>8.0</td>\n      <td>6</td>\n      <td>45000</td>\n    </tr>\n    <tr>\n      <th>2</th>\n      <td>5</td>\n      <td>6.0</td>\n      <td>7</td>\n      <td>60000</td>\n    </tr>\n    <tr>\n      <th>3</th>\n      <td>2</td>\n      <td>10.0</td>\n      <td>10</td>\n      <td>65000</td>\n    </tr>\n    <tr>\n      <th>4</th>\n      <td>7</td>\n      <td>9.0</td>\n      <td>6</td>\n      <td>70000</td>\n    </tr>\n    <tr>\n      <th>5</th>\n      <td>3</td>\n      <td>7.0</td>\n      <td>10</td>\n      <td>62000</td>\n    </tr>\n    <tr>\n      <th>6</th>\n      <td>10</td>\n      <td>NaN</td>\n      <td>7</td>\n      <td>72000</td>\n    </tr>\n    <tr>\n      <th>7</th>\n      <td>11</td>\n      <td>7.0</td>\n      <td>8</td>\n      <td>80000</td>\n    </tr>\n  </tbody>\n</table>\n</div>"
     },
     "metadata": {},
     "execution_count": 9
    }
   ],
   "source": [
    "df"
   ]
  },
  {
   "cell_type": "code",
   "execution_count": 10,
   "metadata": {},
   "outputs": [],
   "source": [
    "df['test_score(out of 10)'] = df['test_score(out of 10)'].fillna(df['test_score(out of 10)'].median())"
   ]
  },
  {
   "cell_type": "code",
   "execution_count": 11,
   "metadata": {},
   "outputs": [
    {
     "output_type": "execute_result",
     "data": {
      "text/plain": [
       "   experience  test_score(out of 10)  interview_score(out of 10)  salary($)\n",
       "0           0                    8.0                           9      50000\n",
       "1           0                    8.0                           6      45000\n",
       "2           5                    6.0                           7      60000\n",
       "3           2                   10.0                          10      65000\n",
       "4           7                    9.0                           6      70000\n",
       "5           3                    7.0                          10      62000\n",
       "6          10                    8.0                           7      72000\n",
       "7          11                    7.0                           8      80000"
      ],
      "text/html": "<div>\n<style scoped>\n    .dataframe tbody tr th:only-of-type {\n        vertical-align: middle;\n    }\n\n    .dataframe tbody tr th {\n        vertical-align: top;\n    }\n\n    .dataframe thead th {\n        text-align: right;\n    }\n</style>\n<table border=\"1\" class=\"dataframe\">\n  <thead>\n    <tr style=\"text-align: right;\">\n      <th></th>\n      <th>experience</th>\n      <th>test_score(out of 10)</th>\n      <th>interview_score(out of 10)</th>\n      <th>salary($)</th>\n    </tr>\n  </thead>\n  <tbody>\n    <tr>\n      <th>0</th>\n      <td>0</td>\n      <td>8.0</td>\n      <td>9</td>\n      <td>50000</td>\n    </tr>\n    <tr>\n      <th>1</th>\n      <td>0</td>\n      <td>8.0</td>\n      <td>6</td>\n      <td>45000</td>\n    </tr>\n    <tr>\n      <th>2</th>\n      <td>5</td>\n      <td>6.0</td>\n      <td>7</td>\n      <td>60000</td>\n    </tr>\n    <tr>\n      <th>3</th>\n      <td>2</td>\n      <td>10.0</td>\n      <td>10</td>\n      <td>65000</td>\n    </tr>\n    <tr>\n      <th>4</th>\n      <td>7</td>\n      <td>9.0</td>\n      <td>6</td>\n      <td>70000</td>\n    </tr>\n    <tr>\n      <th>5</th>\n      <td>3</td>\n      <td>7.0</td>\n      <td>10</td>\n      <td>62000</td>\n    </tr>\n    <tr>\n      <th>6</th>\n      <td>10</td>\n      <td>8.0</td>\n      <td>7</td>\n      <td>72000</td>\n    </tr>\n    <tr>\n      <th>7</th>\n      <td>11</td>\n      <td>7.0</td>\n      <td>8</td>\n      <td>80000</td>\n    </tr>\n  </tbody>\n</table>\n</div>"
     },
     "metadata": {},
     "execution_count": 11
    }
   ],
   "source": [
    "df"
   ]
  },
  {
   "cell_type": "code",
   "execution_count": 12,
   "metadata": {},
   "outputs": [],
   "source": [
    "model = LinearRegression()"
   ]
  },
  {
   "cell_type": "code",
   "execution_count": 13,
   "metadata": {},
   "outputs": [
    {
     "output_type": "execute_result",
     "data": {
      "text/plain": [
       "LinearRegression()"
      ]
     },
     "metadata": {},
     "execution_count": 13
    }
   ],
   "source": [
    "model.fit(df.drop('salary($)', axis = 1), df['salary($)'])"
   ]
  },
  {
   "cell_type": "code",
   "execution_count": 19,
   "metadata": {},
   "outputs": [
    {
     "output_type": "execute_result",
     "data": {
      "text/plain": [
       "array([92002.18340611])"
      ]
     },
     "metadata": {},
     "execution_count": 19
    }
   ],
   "source": [
    "model.predict([[12, 10, 10]])"
   ]
  },
  {
   "cell_type": "code",
   "execution_count": null,
   "metadata": {},
   "outputs": [],
   "source": []
  }
 ]
}